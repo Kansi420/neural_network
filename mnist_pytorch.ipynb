{
 "cells": [
  {
   "cell_type": "code",
   "execution_count": 1,
   "metadata": {},
   "outputs": [],
   "source": [
    "import torch\n",
    "import torch.nn as nn\n",
    "import torch.optim as optim\n",
    "import torchvision\n",
    "import torchvision.transforms as transforms"
   ]
  },
  {
   "cell_type": "code",
   "execution_count": 14,
   "metadata": {},
   "outputs": [],
   "source": [
    "# Hyperparameters\n",
    "input_size = 784  # 28x28 pixels\n",
    "hidden_size = 128\n",
    "output_size = 10\n",
    "num_epochs = 10\n",
    "batch_size = 100\n",
    "learning_rate = 0.001"
   ]
  },
  {
   "cell_type": "code",
   "execution_count": 15,
   "metadata": {},
   "outputs": [],
   "source": [
    "# MNIST dataset\n",
    "train_dataset = torchvision.datasets.MNIST(root='./data',\n",
    "                                           train=True,\n",
    "                                           transform=transforms.ToTensor(),\n",
    "                                           download=True)\n",
    "\n",
    "test_dataset = torchvision.datasets.MNIST(root='./data',\n",
    "                                          train=False,\n",
    "                                          transform=transforms.ToTensor())"
   ]
  },
  {
   "cell_type": "code",
   "execution_count": 16,
   "metadata": {},
   "outputs": [],
   "source": [
    "train_loader = torch.utils.data.DataLoader(dataset=train_dataset,\n",
    "                                           batch_size=batch_size,\n",
    "                                           shuffle=True)\n",
    "\n",
    "test_loader = torch.utils.data.DataLoader(dataset=test_dataset,\n",
    "                                          batch_size=batch_size,\n",
    "                                          shuffle=False)"
   ]
  },
  {
   "cell_type": "code",
   "execution_count": 17,
   "metadata": {},
   "outputs": [],
   "source": [
    "# Neural network\n",
    "class MLP(nn.Module):\n",
    "    def __init__(self, input_size, hidden_size, output_size):\n",
    "        super(MLP, self).__init__()\n",
    "        self.fc1 = nn.Linear(input_size, hidden_size)\n",
    "        self.relu = nn.ReLU()\n",
    "        self.fc2 = nn.Linear(hidden_size, output_size)\n",
    "\n",
    "    def forward(self, x):\n",
    "        out = self.fc1(x)\n",
    "        out = self.relu(out)\n",
    "        out = self.fc2(out)\n",
    "        return out"
   ]
  },
  {
   "cell_type": "code",
   "execution_count": 18,
   "metadata": {},
   "outputs": [],
   "source": [
    "model = MLP(input_size, hidden_size, output_size)\n",
    "\n",
    "# Loss and optimizer\n",
    "criterion = nn.CrossEntropyLoss()\n",
    "# optimizer = optim.Adam(model.parameters(), lr=learning_rate)\n",
    "optimizer = optim.Adam(model.parameters(), lr=learning_rate)"
   ]
  },
  {
   "cell_type": "code",
   "execution_count": 20,
   "metadata": {},
   "outputs": [
    {
     "name": "stdout",
     "output_type": "stream",
     "text": [
      "Epoch [1/10], Step [100/600], Loss: 0.0366\n",
      "Epoch [1/10], Step [200/600], Loss: 0.0040\n",
      "Epoch [1/10], Step [300/600], Loss: 0.0066\n",
      "Epoch [1/10], Step [400/600], Loss: 0.0634\n",
      "Epoch [1/10], Step [500/600], Loss: 0.0366\n",
      "Epoch [1/10], Step [600/600], Loss: 0.0298\n",
      "Epoch [2/10], Step [100/600], Loss: 0.0434\n",
      "Epoch [2/10], Step [200/600], Loss: 0.0146\n",
      "Epoch [2/10], Step [300/600], Loss: 0.0265\n",
      "Epoch [2/10], Step [400/600], Loss: 0.0068\n",
      "Epoch [2/10], Step [500/600], Loss: 0.0219\n",
      "Epoch [2/10], Step [600/600], Loss: 0.0080\n",
      "Epoch [3/10], Step [100/600], Loss: 0.0140\n",
      "Epoch [3/10], Step [200/600], Loss: 0.0066\n",
      "Epoch [3/10], Step [300/600], Loss: 0.0205\n",
      "Epoch [3/10], Step [400/600], Loss: 0.0695\n",
      "Epoch [3/10], Step [500/600], Loss: 0.0168\n",
      "Epoch [3/10], Step [600/600], Loss: 0.0107\n",
      "Epoch [4/10], Step [100/600], Loss: 0.0054\n",
      "Epoch [4/10], Step [200/600], Loss: 0.0115\n",
      "Epoch [4/10], Step [300/600], Loss: 0.0309\n",
      "Epoch [4/10], Step [400/600], Loss: 0.0089\n",
      "Epoch [4/10], Step [500/600], Loss: 0.0271\n",
      "Epoch [4/10], Step [600/600], Loss: 0.0041\n",
      "Epoch [5/10], Step [100/600], Loss: 0.0315\n",
      "Epoch [5/10], Step [200/600], Loss: 0.0285\n",
      "Epoch [5/10], Step [300/600], Loss: 0.0108\n",
      "Epoch [5/10], Step [400/600], Loss: 0.0065\n",
      "Epoch [5/10], Step [500/600], Loss: 0.0053\n",
      "Epoch [5/10], Step [600/600], Loss: 0.0124\n",
      "Epoch [6/10], Step [100/600], Loss: 0.0103\n",
      "Epoch [6/10], Step [200/600], Loss: 0.0026\n",
      "Epoch [6/10], Step [300/600], Loss: 0.0219\n",
      "Epoch [6/10], Step [400/600], Loss: 0.0145\n",
      "Epoch [6/10], Step [500/600], Loss: 0.0044\n",
      "Epoch [6/10], Step [600/600], Loss: 0.0105\n",
      "Epoch [7/10], Step [100/600], Loss: 0.0057\n",
      "Epoch [7/10], Step [200/600], Loss: 0.0247\n",
      "Epoch [7/10], Step [300/600], Loss: 0.0124\n",
      "Epoch [7/10], Step [400/600], Loss: 0.0176\n",
      "Epoch [7/10], Step [500/600], Loss: 0.0125\n",
      "Epoch [7/10], Step [600/600], Loss: 0.0009\n",
      "Epoch [8/10], Step [100/600], Loss: 0.0063\n",
      "Epoch [8/10], Step [200/600], Loss: 0.0046\n",
      "Epoch [8/10], Step [300/600], Loss: 0.0044\n",
      "Epoch [8/10], Step [400/600], Loss: 0.0020\n",
      "Epoch [8/10], Step [500/600], Loss: 0.0028\n",
      "Epoch [8/10], Step [600/600], Loss: 0.0152\n",
      "Epoch [9/10], Step [100/600], Loss: 0.0018\n",
      "Epoch [9/10], Step [200/600], Loss: 0.0042\n",
      "Epoch [9/10], Step [300/600], Loss: 0.0053\n",
      "Epoch [9/10], Step [400/600], Loss: 0.0160\n",
      "Epoch [9/10], Step [500/600], Loss: 0.0070\n",
      "Epoch [9/10], Step [600/600], Loss: 0.0063\n",
      "Epoch [10/10], Step [100/600], Loss: 0.0086\n",
      "Epoch [10/10], Step [200/600], Loss: 0.0170\n",
      "Epoch [10/10], Step [300/600], Loss: 0.0140\n",
      "Epoch [10/10], Step [400/600], Loss: 0.0042\n",
      "Epoch [10/10], Step [500/600], Loss: 0.0016\n",
      "Epoch [10/10], Step [600/600], Loss: 0.0022\n"
     ]
    }
   ],
   "source": [
    "# Train the model\n",
    "total_step = len(train_loader)\n",
    "for epoch in range(num_epochs):\n",
    "    for i, (images, labels) in enumerate(train_loader):\n",
    "        # Reshape images to (batch_size, input_size)\n",
    "        images = images.reshape(-1, 28*28)\n",
    "\n",
    "        # Forward pass\n",
    "        outputs = model(images)\n",
    "        loss = criterion(outputs, labels)\n",
    "\n",
    "        # Backward and optimize\n",
    "        optimizer.zero_grad()\n",
    "        loss.backward()\n",
    "        optimizer.step()\n",
    "\n",
    "        if (i+1) % 100 == 0:\n",
    "            print ('Epoch [{}/{}], Step [{}/{}], Loss: {:.4f}'\n",
    "                   .format(epoch+1, num_epochs, i+1, total_step, loss.item()))"
   ]
  },
  {
   "cell_type": "code",
   "execution_count": 21,
   "metadata": {},
   "outputs": [
    {
     "name": "stdout",
     "output_type": "stream",
     "text": [
      "Accuracy of the network on the 10000 test images: 97.75 %\n"
     ]
    }
   ],
   "source": [
    "# Test the model\n",
    "with torch.no_grad():\n",
    "    correct = 0\n",
    "    total = 0\n",
    "    for images, labels in test_loader:\n",
    "        images = images.reshape(-1, 28*28)\n",
    "        outputs = model(images)\n",
    "        _, predicted = torch.max(outputs.data, 1)\n",
    "        total += labels.size(0)\n",
    "        correct += (predicted == labels).sum().item()\n",
    "\n",
    "    print('Accuracy of the network on the 10000 test images: {} %'.format(100 * correct / total))"
   ]
  },
  {
   "cell_type": "code",
   "execution_count": null,
   "metadata": {},
   "outputs": [],
   "source": []
  }
 ],
 "metadata": {
  "kernelspec": {
   "display_name": "openvoice",
   "language": "python",
   "name": "python3"
  },
  "language_info": {
   "codemirror_mode": {
    "name": "ipython",
    "version": 3
   },
   "file_extension": ".py",
   "mimetype": "text/x-python",
   "name": "python",
   "nbconvert_exporter": "python",
   "pygments_lexer": "ipython3",
   "version": "3.9.19"
  }
 },
 "nbformat": 4,
 "nbformat_minor": 2
}
