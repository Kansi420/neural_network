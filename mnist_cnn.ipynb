{
 "cells": [
  {
   "cell_type": "code",
   "execution_count": 43,
   "metadata": {},
   "outputs": [],
   "source": [
    "import torch\n",
    "import torch.nn as nn\n",
    "import torch.optim as optim\n",
    "import torch.nn.functional as F\n",
    "from torchvision import datasets"
   ]
  },
  {
   "cell_type": "code",
   "execution_count": 44,
   "metadata": {},
   "outputs": [],
   "source": [
    "# MNIST dataset\n",
    "train_dataset = datasets.MNIST(root='./data',\n",
    "                                train=True,\n",
    "                                transform=transforms.ToTensor(),\n",
    "                                download=True)\n",
    "\n",
    "test_dataset = datasets.MNIST(root='./data',\n",
    "                                train=False,\n",
    "                                transform=transforms.ToTensor())"
   ]
  },
  {
   "cell_type": "code",
   "execution_count": 45,
   "metadata": {},
   "outputs": [],
   "source": [
    "# Training the model\n",
    "n_epochs =  5 # Number of epochs\n",
    "batch_size = 128\n",
    "learning_rate = 0.1"
   ]
  },
  {
   "cell_type": "code",
   "execution_count": 46,
   "metadata": {},
   "outputs": [],
   "source": [
    "train_loader = torch.utils.data.DataLoader(dataset=train_dataset,\n",
    "                                           batch_size=batch_size,\n",
    "                                           shuffle=True)\n",
    "\n",
    "test_loader = torch.utils.data.DataLoader(dataset=test_dataset,\n",
    "                                          batch_size=batch_size,\n",
    "                                          shuffle=False)"
   ]
  },
  {
   "cell_type": "code",
   "execution_count": 47,
   "metadata": {},
   "outputs": [],
   "source": [
    "# Define the CNN\n",
    "class SimpleCNN(nn.Module):\n",
    "    def __init__(self):\n",
    "        super(SimpleCNN, self).__init__()\n",
    "        # First convolutional layer\n",
    "        self.conv1 = nn.Conv2d(in_channels=1, out_channels=32, kernel_size=3, stride=1, padding=1)\n",
    "        self.relu1 = nn.ReLU()\n",
    "        self.pool1 = nn.MaxPool2d(kernel_size=2, stride=2, padding=0)\n",
    "        \n",
    "        # Second convolutional layer\n",
    "        self.conv2 = nn.Conv2d(in_channels=32, out_channels=64, kernel_size=3, stride=1, padding=1)\n",
    "        self.relu2 = nn.ReLU()\n",
    "        self.pool2 = nn.MaxPool2d(kernel_size=2, stride=2, padding=0)\n",
    "        \n",
    "        # Fully connected layer\n",
    "        self.fc1 = nn.Linear(64 * 7 * 7, 128)\n",
    "        self.relu3 = nn.ReLU()\n",
    "        self.fc2 = nn.Linear(128, 10)\n",
    "    \n",
    "    def forward(self, x):\n",
    "        x = self.conv1(x)\n",
    "        x = self.relu1(x)\n",
    "        x = self.pool1(x)\n",
    "        \n",
    "        x = self.conv2(x)\n",
    "        x = self.relu2(x)\n",
    "        x = self.pool2(x)\n",
    "        \n",
    "        x = x.view(-1, 64 * 7 * 7)  # Flatten the tensor\n",
    "        \n",
    "        x = self.fc1(x)\n",
    "        x = self.relu3(x)\n",
    "        x = self.fc2(x)\n",
    "        \n",
    "        return x  # Return raw logits"
   ]
  },
  {
   "cell_type": "code",
   "execution_count": 48,
   "metadata": {},
   "outputs": [],
   "source": [
    "device = torch.device('cuda' if torch.cuda.is_available() else 'cpu')\n",
    "model = SimpleCNN().to(device)\n",
    "criterion = nn.CrossEntropyLoss()\n",
    "optimizer = optim.SGD(model.parameters(), lr=learning_rate)"
   ]
  },
  {
   "cell_type": "code",
   "execution_count": 49,
   "metadata": {},
   "outputs": [
    {
     "name": "stdout",
     "output_type": "stream",
     "text": [
      "Epoch [1/5], Iteration [1/469], Loss: 2.2952\n",
      "Epoch [1/5], Iteration [101/469], Loss: 0.4495\n",
      "Epoch [1/5], Iteration [201/469], Loss: 0.2513\n",
      "Epoch [1/5], Iteration [301/469], Loss: 0.1945\n",
      "Epoch [1/5], Iteration [401/469], Loss: 0.1637\n",
      "Epoch 1/5, Loss: 0.1245\n",
      "Epoch [2/5], Iteration [1/469], Loss: 0.0417\n",
      "Epoch [2/5], Iteration [101/469], Loss: 0.1723\n",
      "Epoch [2/5], Iteration [201/469], Loss: 0.0811\n",
      "Epoch [2/5], Iteration [301/469], Loss: 0.0959\n",
      "Epoch [2/5], Iteration [401/469], Loss: 0.0384\n",
      "Epoch 2/5, Loss: 0.0377\n",
      "Epoch [3/5], Iteration [1/469], Loss: 0.0571\n",
      "Epoch [3/5], Iteration [101/469], Loss: 0.1287\n",
      "Epoch [3/5], Iteration [201/469], Loss: 0.1012\n",
      "Epoch [3/5], Iteration [301/469], Loss: 0.0380\n",
      "Epoch [3/5], Iteration [401/469], Loss: 0.0523\n",
      "Epoch 3/5, Loss: 0.0342\n",
      "Epoch [4/5], Iteration [1/469], Loss: 0.0284\n",
      "Epoch [4/5], Iteration [101/469], Loss: 0.0215\n",
      "Epoch [4/5], Iteration [201/469], Loss: 0.0233\n",
      "Epoch [4/5], Iteration [301/469], Loss: 0.0306\n",
      "Epoch [4/5], Iteration [401/469], Loss: 0.0217\n",
      "Epoch 4/5, Loss: 0.0175\n",
      "Epoch [5/5], Iteration [1/469], Loss: 0.0258\n",
      "Epoch [5/5], Iteration [101/469], Loss: 0.0249\n",
      "Epoch [5/5], Iteration [201/469], Loss: 0.0059\n",
      "Epoch [5/5], Iteration [301/469], Loss: 0.0588\n",
      "Epoch [5/5], Iteration [401/469], Loss: 0.0328\n",
      "Epoch 5/5, Loss: 0.0106\n"
     ]
    }
   ],
   "source": [
    "for epoch in range(n_epochs):\n",
    "    model.train()\n",
    "    for batch_idx, (images, labels) in enumerate(train_loader):\n",
    "        optimizer.zero_grad()  # Zero the gradients\n",
    "        outputs = model(images)  # Forward pass\n",
    "        loss = criterion(outputs, labels)  # Compute the loss\n",
    "        loss.backward()  # Backward pass\n",
    "        optimizer.step()  # Update the weights\n",
    "\n",
    "        # Print loss for each iteration\n",
    "        if batch_idx%100 == 0:\n",
    "            print(f'Epoch [{epoch+1}/{n_epochs}], Iteration [{batch_idx+1}/{len(train_loader)}], Loss: {loss.item():.4f}')\n",
    "\n",
    "    print(f'Epoch {epoch+1}/{n_epochs}, Loss: {loss.item():.4f}')"
   ]
  },
  {
   "cell_type": "code",
   "execution_count": 50,
   "metadata": {},
   "outputs": [],
   "source": [
    "# Evaluate the model\n",
    "model.eval()\n",
    "correct = 0\n",
    "total = 0"
   ]
  },
  {
   "cell_type": "code",
   "execution_count": 51,
   "metadata": {},
   "outputs": [
    {
     "name": "stdout",
     "output_type": "stream",
     "text": [
      "Accuracy of the model on the 10000 test images: 98.82 %\n"
     ]
    }
   ],
   "source": [
    "with torch.no_grad():\n",
    "    for images, labels in test_loader:\n",
    "        outputs = model(images)\n",
    "        _, predicted = torch.max(outputs.data, 1)\n",
    "        total += labels.size(0)\n",
    "        correct += (predicted == labels).sum().item()\n",
    "\n",
    "print(f'Accuracy of the model on the 10000 test images: {100 * correct / total} %')"
   ]
  }
 ],
 "metadata": {
  "kernelspec": {
   "display_name": "openvoice",
   "language": "python",
   "name": "python3"
  },
  "language_info": {
   "codemirror_mode": {
    "name": "ipython",
    "version": 3
   },
   "file_extension": ".py",
   "mimetype": "text/x-python",
   "name": "python",
   "nbconvert_exporter": "python",
   "pygments_lexer": "ipython3",
   "version": "3.9.19"
  }
 },
 "nbformat": 4,
 "nbformat_minor": 2
}
