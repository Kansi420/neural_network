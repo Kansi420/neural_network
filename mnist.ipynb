{
 "cells": [
  {
   "cell_type": "code",
   "execution_count": 1,
   "metadata": {},
   "outputs": [],
   "source": [
    "import numpy as np\n",
    "import pandas as pd\n",
    "import matplotlib.pyplot as plt\n",
    "import matplotlib.cm as cm \n",
    "\n",
    "\n",
    "# Example usage\n",
    "# Assuming you have loaded MNIST data into X_train (images) and y_train (labels)\n",
    "# You need to preprocess the data (e.g., flatten images and one-hot encode labels) before using it\n",
    "\n",
    "# train(X_train, y_train, epochs=10, batch_size=64)\n"
   ]
  },
  {
   "cell_type": "code",
   "execution_count": 2,
   "metadata": {},
   "outputs": [],
   "source": [
    "train_data_pd = pd.read_csv('./train.csv')\n",
    "test_data_pd = pd.read_csv('./test.csv')"
   ]
  },
  {
   "cell_type": "code",
   "execution_count": 3,
   "metadata": {},
   "outputs": [],
   "source": [
    "train_data = np.array(train_data_pd)\n",
    "test_data = np.array(test_data_pd)"
   ]
  },
  {
   "cell_type": "code",
   "execution_count": 4,
   "metadata": {},
   "outputs": [],
   "source": [
    "train_label = train_data[:, :1]\n",
    "\n",
    "train_data = train_data[:, 1:]\n"
   ]
  },
  {
   "cell_type": "code",
   "execution_count": 5,
   "metadata": {},
   "outputs": [
    {
     "data": {
      "text/plain": [
       "<matplotlib.image.AxesImage at 0x1681f8940>"
      ]
     },
     "execution_count": 5,
     "metadata": {},
     "output_type": "execute_result"
    },
    {
     "data": {
      "image/png": "[encoded data removed]",
      "text/plain": [
       "<Figure size 640x480 with 1 Axes>"
      ]
     },
     "metadata": {},
     "output_type": "display_data"
    }
   ],
   "source": [
    "index = 95\n",
    "plt.title((train_label[index]))\n",
    "plt.imshow(train_data[index].reshape(28,28))"
   ]
  },
  {
   "cell_type": "code",
   "execution_count": 6,
   "metadata": {},
   "outputs": [],
   "source": [
    "train_data = train_data/np.max(train_data)\n",
    "test_data = test_data/np.max(test_data)"
   ]
  },
  {
   "cell_type": "code",
   "execution_count": 7,
   "metadata": {},
   "outputs": [
    {
     "name": "stdout",
     "output_type": "stream",
     "text": [
      "1.0\n",
      "1.0\n"
     ]
    }
   ],
   "source": [
    "print(np.max(train_data))\n",
    "print(np.max(test_data))"
   ]
  },
  {
   "cell_type": "code",
   "execution_count": 8,
   "metadata": {},
   "outputs": [
    {
     "data": {
      "text/plain": [
       "array([[0., 0., 0., ..., 0., 0., 0.],\n",
       "       [0., 0., 0., ..., 0., 0., 0.],\n",
       "       [0., 0., 0., ..., 0., 0., 0.],\n",
       "       ...,\n",
       "       [0., 0., 0., ..., 0., 0., 0.],\n",
       "       [0., 0., 0., ..., 0., 0., 0.],\n",
       "       [0., 0., 0., ..., 0., 0., 0.]])"
      ]
     },
     "execution_count": 8,
     "metadata": {},
     "output_type": "execute_result"
    }
   ],
   "source": [
    "train_lables_OH = np.zeros((train_data.shape[0], 10))\n",
    "train_lables_OH"
   ]
  },
  {
   "cell_type": "code",
   "execution_count": 9,
   "metadata": {},
   "outputs": [],
   "source": [
    "for i, lable in enumerate(train_label):\n",
    "    # print(i, lable)\n",
    "    train_lables_OH[i][lable] = 1\n"
   ]
  },
  {
   "cell_type": "code",
   "execution_count": 10,
   "metadata": {},
   "outputs": [
    {
     "name": "stdout",
     "output_type": "stream",
     "text": [
      "(42000, 784)\n",
      "(42000, 10)\n"
     ]
    }
   ],
   "source": [
    "print(train_data.shape)\n",
    "print(train_lables_OH.shape)"
   ]
  },
  {
   "cell_type": "code",
   "execution_count": 11,
   "metadata": {},
   "outputs": [],
   "source": [
    "# Define the ReLU activation function\n",
    "def relu(x):\n",
    "    return np.maximum(0, x)\n",
    "\n",
    "# Define the derivative of the ReLU activation function\n",
    "def relu_derivative(x):\n",
    "    return np.where(x > 0, 1, 0)\n",
    "\n",
    "# Define the softmax function\n",
    "def softmax(x):\n",
    "    exp_vals = np.exp(x - np.max(x, axis=-1, keepdims=True))\n",
    "    return exp_vals / np.sum(exp_vals, axis=-1, keepdims=True)\n",
    "\n",
    "# Define the categorical cross-entropy loss function\n",
    "def categorical_cross_entropy(y_pred, y_true):\n",
    "    num_samples = y_pred.shape[0]\n",
    "    return -np.sum(y_true * np.log(y_pred + 1e-15)) / num_samples\n"
   ]
  },
  {
   "cell_type": "code",
   "execution_count": 12,
   "metadata": {},
   "outputs": [],
   "source": [
    "# Initialize weights and biases\n",
    "input_size = 784  # MNIST image size (28x28)\n",
    "hidden_size = 128\n",
    "output_size = 10\n",
    "learning_rate = 0.001\n",
    "\n",
    "W1 = np.random.randn(input_size, hidden_size)\n",
    "b1 = np.zeros(hidden_size)\n",
    "W2 = np.random.randn(hidden_size, output_size)\n",
    "b2 = np.zeros(output_size)"
   ]
  },
  {
   "cell_type": "code",
   "execution_count": 13,
   "metadata": {},
   "outputs": [],
   "source": [
    "# Forward pass\n",
    "def forward_pass(X):\n",
    "    global W1, b1, W2, b2\n",
    "    # Input layer to hidden layer\n",
    "    z1 = np.dot(X, W1) + b1\n",
    "    a1 = relu(z1)\n",
    "    # Hidden layer to output layer\n",
    "    z2 = np.dot(a1, W2) + b2\n",
    "    a2 = softmax(z2)\n",
    "    return a1, a2\n",
    "\n",
    "# Backward pass\n",
    "def backward_pass(X, y_true, a1, a2):\n",
    "    global W1, b1, W2, b2\n",
    "    num_samples = X.shape[0]\n",
    "    # Compute gradients for output layer\n",
    "    dz2 = (a2 - y_true) / num_samples\n",
    "    dW2 = np.dot(a1.T, dz2)\n",
    "    db2 = np.sum(dz2, axis=0)\n",
    "    # Compute gradients for hidden layer\n",
    "    da1 = np.dot(dz2, W2.T)\n",
    "    dz1 = da1 * relu_derivative(a1)\n",
    "    dW1 = np.dot(X.T, dz1)\n",
    "    db1 = np.sum(dz1, axis=0)\n",
    "    # Update weights and biases\n",
    "    W1 -= learning_rate * dW1\n",
    "    b1 -= learning_rate * db1\n",
    "    W2 -= learning_rate * dW2\n",
    "    b2 -= learning_rate * db2\n"
   ]
  },
  {
   "cell_type": "code",
   "execution_count": 14,
   "metadata": {},
   "outputs": [],
   "source": [
    "# Training loop\n",
    "def train(X_train, y_train, epochs, batch_size):\n",
    "    num_samples = X_train.shape[0]\n",
    "    for epoch in range(epochs):\n",
    "        for i in range(0, num_samples, batch_size):\n",
    "            X_batch = X_train[i:i+batch_size]\n",
    "            y_batch = y_train[i:i+batch_size]\n",
    "            # Forward pass\n",
    "            a1, a2 = forward_pass(X_batch)\n",
    "            # Backward pass\n",
    "            backward_pass(X_batch, y_batch, a1, a2)\n",
    "        # Compute training loss\n",
    "        _, y_pred = forward_pass(X_train)\n",
    "        loss = categorical_cross_entropy(y_pred, y_train)\n",
    "        print(f'Epoch {epoch+1}/{epochs}, Loss: {loss:.4f}')\n"
   ]
  },
  {
   "cell_type": "code",
   "execution_count": 28,
   "metadata": {},
   "outputs": [
    {
     "name": "stdout",
     "output_type": "stream",
     "text": [
      "Epoch 1/300, Loss: 1.0986\n",
      "Epoch 2/300, Loss: 1.0970\n",
      "Epoch 3/300, Loss: 1.0955\n",
      "Epoch 4/300, Loss: 1.0939\n",
      "Epoch 5/300, Loss: 1.0924\n",
      "Epoch 6/300, Loss: 1.0909\n",
      "Epoch 7/300, Loss: 1.0893\n",
      "Epoch 8/300, Loss: 1.0878\n",
      "Epoch 9/300, Loss: 1.0863\n",
      "Epoch 10/300, Loss: 1.0848\n",
      "Epoch 11/300, Loss: 1.0832\n",
      "Epoch 12/300, Loss: 1.0817\n",
      "Epoch 13/300, Loss: 1.0802\n",
      "Epoch 14/300, Loss: 1.0787\n",
      "Epoch 15/300, Loss: 1.0772\n",
      "Epoch 16/300, Loss: 1.0757\n",
      "Epoch 17/300, Loss: 1.0742\n",
      "Epoch 18/300, Loss: 1.0727\n",
      "Epoch 19/300, Loss: 1.0713\n",
      "Epoch 20/300, Loss: 1.0698\n",
      "Epoch 21/300, Loss: 1.0683\n",
      "Epoch 22/300, Loss: 1.0668\n",
      "Epoch 23/300, Loss: 1.0653\n",
      "Epoch 24/300, Loss: 1.0639\n",
      "Epoch 25/300, Loss: 1.0624\n",
      "Epoch 26/300, Loss: 1.0610\n",
      "Epoch 27/300, Loss: 1.0595\n",
      "Epoch 28/300, Loss: 1.0581\n",
      "Epoch 29/300, Loss: 1.0566\n",
      "Epoch 30/300, Loss: 1.0552\n",
      "Epoch 31/300, Loss: 1.0537\n",
      "Epoch 32/300, Loss: 1.0523\n",
      "Epoch 33/300, Loss: 1.0508\n",
      "Epoch 34/300, Loss: 1.0494\n",
      "Epoch 35/300, Loss: 1.0480\n",
      "Epoch 36/300, Loss: 1.0466\n",
      "Epoch 37/300, Loss: 1.0451\n",
      "Epoch 38/300, Loss: 1.0437\n",
      "Epoch 39/300, Loss: 1.0423\n",
      "Epoch 40/300, Loss: 1.0409\n",
      "Epoch 41/300, Loss: 1.0395\n",
      "Epoch 42/300, Loss: 1.0381\n",
      "Epoch 43/300, Loss: 1.0367\n",
      "Epoch 44/300, Loss: 1.0353\n",
      "Epoch 45/300, Loss: 1.0339\n",
      "Epoch 46/300, Loss: 1.0325\n",
      "Epoch 47/300, Loss: 1.0311\n",
      "Epoch 48/300, Loss: 1.0297\n",
      "Epoch 49/300, Loss: 1.0283\n",
      "Epoch 50/300, Loss: 1.0269\n",
      "Epoch 51/300, Loss: 1.0256\n",
      "Epoch 52/300, Loss: 1.0242\n",
      "Epoch 53/300, Loss: 1.0228\n",
      "Epoch 54/300, Loss: 1.0215\n",
      "Epoch 55/300, Loss: 1.0201\n",
      "Epoch 56/300, Loss: 1.0187\n",
      "Epoch 57/300, Loss: 1.0174\n",
      "Epoch 58/300, Loss: 1.0160\n",
      "Epoch 59/300, Loss: 1.0147\n",
      "Epoch 60/300, Loss: 1.0133\n",
      "Epoch 61/300, Loss: 1.0120\n",
      "Epoch 62/300, Loss: 1.0106\n",
      "Epoch 63/300, Loss: 1.0093\n",
      "Epoch 64/300, Loss: 1.0079\n",
      "Epoch 65/300, Loss: 1.0066\n",
      "Epoch 66/300, Loss: 1.0053\n",
      "Epoch 67/300, Loss: 1.0040\n",
      "Epoch 68/300, Loss: 1.0026\n",
      "Epoch 69/300, Loss: 1.0013\n",
      "Epoch 70/300, Loss: 1.0000\n",
      "Epoch 71/300, Loss: 0.9987\n",
      "Epoch 72/300, Loss: 0.9974\n",
      "Epoch 73/300, Loss: 0.9961\n",
      "Epoch 74/300, Loss: 0.9948\n",
      "Epoch 75/300, Loss: 0.9934\n",
      "Epoch 76/300, Loss: 0.9921\n",
      "Epoch 77/300, Loss: 0.9909\n",
      "Epoch 78/300, Loss: 0.9896\n",
      "Epoch 79/300, Loss: 0.9883\n",
      "Epoch 80/300, Loss: 0.9870\n",
      "Epoch 81/300, Loss: 0.9857\n",
      "Epoch 82/300, Loss: 0.9844\n",
      "Epoch 83/300, Loss: 0.9831\n",
      "Epoch 84/300, Loss: 0.9819\n",
      "Epoch 85/300, Loss: 0.9806\n",
      "Epoch 86/300, Loss: 0.9793\n",
      "Epoch 87/300, Loss: 0.9780\n",
      "Epoch 88/300, Loss: 0.9768\n",
      "Epoch 89/300, Loss: 0.9755\n",
      "Epoch 90/300, Loss: 0.9743\n",
      "Epoch 91/300, Loss: 0.9730\n",
      "Epoch 92/300, Loss: 0.9717\n",
      "Epoch 93/300, Loss: 0.9705\n",
      "Epoch 94/300, Loss: 0.9692\n",
      "Epoch 95/300, Loss: 0.9680\n",
      "Epoch 96/300, Loss: 0.9667\n",
      "Epoch 97/300, Loss: 0.9655\n",
      "Epoch 98/300, Loss: 0.9643\n",
      "Epoch 99/300, Loss: 0.9630\n",
      "Epoch 100/300, Loss: 0.9618\n",
      "Epoch 101/300, Loss: 0.9606\n",
      "Epoch 102/300, Loss: 0.9593\n",
      "Epoch 103/300, Loss: 0.9581\n",
      "Epoch 104/300, Loss: 0.9569\n",
      "Epoch 105/300, Loss: 0.9557\n",
      "Epoch 106/300, Loss: 0.9545\n",
      "Epoch 107/300, Loss: 0.9532\n",
      "Epoch 108/300, Loss: 0.9520\n",
      "Epoch 109/300, Loss: 0.9508\n",
      "Epoch 110/300, Loss: 0.9496\n",
      "Epoch 111/300, Loss: 0.9484\n",
      "Epoch 112/300, Loss: 0.9472\n",
      "Epoch 113/300, Loss: 0.9460\n",
      "Epoch 114/300, Loss: 0.9448\n",
      "Epoch 115/300, Loss: 0.9437\n",
      "Epoch 116/300, Loss: 0.9425\n",
      "Epoch 117/300, Loss: 0.9413\n",
      "Epoch 118/300, Loss: 0.9401\n",
      "Epoch 119/300, Loss: 0.9389\n",
      "Epoch 120/300, Loss: 0.9378\n",
      "Epoch 121/300, Loss: 0.9366\n",
      "Epoch 122/300, Loss: 0.9354\n",
      "Epoch 123/300, Loss: 0.9342\n",
      "Epoch 124/300, Loss: 0.9331\n",
      "Epoch 125/300, Loss: 0.9319\n",
      "Epoch 126/300, Loss: 0.9308\n",
      "Epoch 127/300, Loss: 0.9296\n",
      "Epoch 128/300, Loss: 0.9284\n",
      "Epoch 129/300, Loss: 0.9273\n",
      "Epoch 130/300, Loss: 0.9261\n",
      "Epoch 131/300, Loss: 0.9250\n",
      "Epoch 132/300, Loss: 0.9238\n",
      "Epoch 133/300, Loss: 0.9227\n",
      "Epoch 134/300, Loss: 0.9216\n",
      "Epoch 135/300, Loss: 0.9204\n",
      "Epoch 136/300, Loss: 0.9193\n",
      "Epoch 137/300, Loss: 0.9182\n",
      "Epoch 138/300, Loss: 0.9170\n",
      "Epoch 139/300, Loss: 0.9159\n",
      "Epoch 140/300, Loss: 0.9148\n",
      "Epoch 141/300, Loss: 0.9137\n",
      "Epoch 142/300, Loss: 0.9126\n",
      "Epoch 143/300, Loss: 0.9114\n",
      "Epoch 144/300, Loss: 0.9103\n",
      "Epoch 145/300, Loss: 0.9092\n",
      "Epoch 146/300, Loss: 0.9081\n",
      "Epoch 147/300, Loss: 0.9070\n",
      "Epoch 148/300, Loss: 0.9059\n",
      "Epoch 149/300, Loss: 0.9048\n",
      "Epoch 150/300, Loss: 0.9037\n",
      "Epoch 151/300, Loss: 0.9026\n",
      "Epoch 152/300, Loss: 0.9015\n",
      "Epoch 153/300, Loss: 0.9004\n",
      "Epoch 154/300, Loss: 0.8993\n",
      "Epoch 155/300, Loss: 0.8982\n",
      "Epoch 156/300, Loss: 0.8971\n",
      "Epoch 157/300, Loss: 0.8960\n",
      "Epoch 158/300, Loss: 0.8950\n",
      "Epoch 159/300, Loss: 0.8939\n",
      "Epoch 160/300, Loss: 0.8928\n",
      "Epoch 161/300, Loss: 0.8917\n",
      "Epoch 162/300, Loss: 0.8907\n",
      "Epoch 163/300, Loss: 0.8896\n",
      "Epoch 164/300, Loss: 0.8885\n",
      "Epoch 165/300, Loss: 0.8875\n",
      "Epoch 166/300, Loss: 0.8864\n",
      "Epoch 167/300, Loss: 0.8853\n",
      "Epoch 168/300, Loss: 0.8843\n",
      "Epoch 169/300, Loss: 0.8832\n",
      "Epoch 170/300, Loss: 0.8822\n",
      "Epoch 171/300, Loss: 0.8811\n",
      "Epoch 172/300, Loss: 0.8801\n",
      "Epoch 173/300, Loss: 0.8790\n",
      "Epoch 174/300, Loss: 0.8780\n",
      "Epoch 175/300, Loss: 0.8770\n",
      "Epoch 176/300, Loss: 0.8759\n",
      "Epoch 177/300, Loss: 0.8749\n",
      "Epoch 178/300, Loss: 0.8739\n",
      "Epoch 179/300, Loss: 0.8728\n",
      "Epoch 180/300, Loss: 0.8718\n",
      "Epoch 181/300, Loss: 0.8708\n",
      "Epoch 182/300, Loss: 0.8698\n",
      "Epoch 183/300, Loss: 0.8688\n",
      "Epoch 184/300, Loss: 0.8677\n",
      "Epoch 185/300, Loss: 0.8667\n",
      "Epoch 186/300, Loss: 0.8657\n",
      "Epoch 187/300, Loss: 0.8647\n",
      "Epoch 188/300, Loss: 0.8637\n",
      "Epoch 189/300, Loss: 0.8627\n",
      "Epoch 190/300, Loss: 0.8617\n",
      "Epoch 191/300, Loss: 0.8607\n",
      "Epoch 192/300, Loss: 0.8597\n",
      "Epoch 193/300, Loss: 0.8587\n",
      "Epoch 194/300, Loss: 0.8577\n",
      "Epoch 195/300, Loss: 0.8567\n",
      "Epoch 196/300, Loss: 0.8557\n",
      "Epoch 197/300, Loss: 0.8547\n",
      "Epoch 198/300, Loss: 0.8538\n",
      "Epoch 199/300, Loss: 0.8528\n",
      "Epoch 200/300, Loss: 0.8518\n",
      "Epoch 201/300, Loss: 0.8508\n",
      "Epoch 202/300, Loss: 0.8498\n",
      "Epoch 203/300, Loss: 0.8489\n",
      "Epoch 204/300, Loss: 0.8479\n",
      "Epoch 205/300, Loss: 0.8469\n",
      "Epoch 206/300, Loss: 0.8460\n",
      "Epoch 207/300, Loss: 0.8450\n",
      "Epoch 208/300, Loss: 0.8440\n",
      "Epoch 209/300, Loss: 0.8431\n",
      "Epoch 210/300, Loss: 0.8421\n",
      "Epoch 211/300, Loss: 0.8412\n",
      "Epoch 212/300, Loss: 0.8402\n",
      "Epoch 213/300, Loss: 0.8393\n",
      "Epoch 214/300, Loss: 0.8383\n",
      "Epoch 215/300, Loss: 0.8374\n",
      "Epoch 216/300, Loss: 0.8364\n",
      "Epoch 217/300, Loss: 0.8355\n",
      "Epoch 218/300, Loss: 0.8345\n",
      "Epoch 219/300, Loss: 0.8336\n",
      "Epoch 220/300, Loss: 0.8327\n",
      "Epoch 221/300, Loss: 0.8317\n",
      "Epoch 222/300, Loss: 0.8308\n",
      "Epoch 223/300, Loss: 0.8299\n",
      "Epoch 224/300, Loss: 0.8289\n",
      "Epoch 225/300, Loss: 0.8280\n",
      "Epoch 226/300, Loss: 0.8271\n",
      "Epoch 227/300, Loss: 0.8262\n",
      "Epoch 228/300, Loss: 0.8252\n",
      "Epoch 229/300, Loss: 0.8243\n",
      "Epoch 230/300, Loss: 0.8234\n",
      "Epoch 231/300, Loss: 0.8225\n",
      "Epoch 232/300, Loss: 0.8216\n",
      "Epoch 233/300, Loss: 0.8207\n",
      "Epoch 234/300, Loss: 0.8197\n",
      "Epoch 235/300, Loss: 0.8188\n",
      "Epoch 236/300, Loss: 0.8179\n",
      "Epoch 237/300, Loss: 0.8170\n",
      "Epoch 238/300, Loss: 0.8161\n",
      "Epoch 239/300, Loss: 0.8152\n",
      "Epoch 240/300, Loss: 0.8143\n",
      "Epoch 241/300, Loss: 0.8134\n",
      "Epoch 242/300, Loss: 0.8125\n",
      "Epoch 243/300, Loss: 0.8116\n",
      "Epoch 244/300, Loss: 0.8107\n",
      "Epoch 245/300, Loss: 0.8099\n",
      "Epoch 246/300, Loss: 0.8090\n",
      "Epoch 247/300, Loss: 0.8081\n",
      "Epoch 248/300, Loss: 0.8072\n",
      "Epoch 249/300, Loss: 0.8063\n",
      "Epoch 250/300, Loss: 0.8054\n",
      "Epoch 251/300, Loss: 0.8046\n",
      "Epoch 252/300, Loss: 0.8037\n",
      "Epoch 253/300, Loss: 0.8028\n",
      "Epoch 254/300, Loss: 0.8019\n",
      "Epoch 255/300, Loss: 0.8011\n",
      "Epoch 256/300, Loss: 0.8002\n",
      "Epoch 257/300, Loss: 0.7993\n",
      "Epoch 258/300, Loss: 0.7985\n",
      "Epoch 259/300, Loss: 0.7976\n",
      "Epoch 260/300, Loss: 0.7967\n",
      "Epoch 261/300, Loss: 0.7959\n",
      "Epoch 262/300, Loss: 0.7950\n",
      "Epoch 263/300, Loss: 0.7942\n",
      "Epoch 264/300, Loss: 0.7933\n",
      "Epoch 265/300, Loss: 0.7925\n",
      "Epoch 266/300, Loss: 0.7916\n",
      "Epoch 267/300, Loss: 0.7908\n",
      "Epoch 268/300, Loss: 0.7899\n",
      "Epoch 269/300, Loss: 0.7891\n",
      "Epoch 270/300, Loss: 0.7882\n",
      "Epoch 271/300, Loss: 0.7874\n",
      "Epoch 272/300, Loss: 0.7865\n",
      "Epoch 273/300, Loss: 0.7857\n",
      "Epoch 274/300, Loss: 0.7849\n",
      "Epoch 275/300, Loss: 0.7840\n",
      "Epoch 276/300, Loss: 0.7832\n",
      "Epoch 277/300, Loss: 0.7824\n",
      "Epoch 278/300, Loss: 0.7816\n",
      "Epoch 279/300, Loss: 0.7807\n",
      "Epoch 280/300, Loss: 0.7799\n",
      "Epoch 281/300, Loss: 0.7791\n",
      "Epoch 282/300, Loss: 0.7783\n",
      "Epoch 283/300, Loss: 0.7774\n",
      "Epoch 284/300, Loss: 0.7766\n",
      "Epoch 285/300, Loss: 0.7758\n",
      "Epoch 286/300, Loss: 0.7750\n",
      "Epoch 287/300, Loss: 0.7742\n",
      "Epoch 288/300, Loss: 0.7734\n",
      "Epoch 289/300, Loss: 0.7726\n",
      "Epoch 290/300, Loss: 0.7718\n",
      "Epoch 291/300, Loss: 0.7709\n",
      "Epoch 292/300, Loss: 0.7701\n",
      "Epoch 293/300, Loss: 0.7693\n",
      "Epoch 294/300, Loss: 0.7685\n",
      "Epoch 295/300, Loss: 0.7677\n",
      "Epoch 296/300, Loss: 0.7669\n",
      "Epoch 297/300, Loss: 0.7661\n",
      "Epoch 298/300, Loss: 0.7653\n",
      "Epoch 299/300, Loss: 0.7645\n",
      "Epoch 300/300, Loss: 0.7637\n"
     ]
    }
   ],
   "source": [
    "train(train_data, train_lables_OH, epochs=300, batch_size=256)"
   ]
  },
  {
   "cell_type": "code",
   "execution_count": 29,
   "metadata": {},
   "outputs": [
    {
     "name": "stdout",
     "output_type": "stream",
     "text": [
      "Predicted value 7\n"
     ]
    },
    {
     "data": {
      "image/png": "[encoded data removed]",
      "text/plain": [
       "<Figure size 640x480 with 1 Axes>"
      ]
     },
     "metadata": {},
     "output_type": "display_data"
    }
   ],
   "source": [
    "def predict(index):\n",
    "    test_ele = test_data[index: index+1, :]\n",
    "    plt.imshow(test_ele.reshape(28,28))\n",
    "    _, y_pred = forward_pass(test_ele)\n",
    "    print('Predicted value', np.argmax(y_pred))\n",
    "\n",
    "predict(40)"
   ]
  },
  {
   "cell_type": "code",
   "execution_count": 30,
   "metadata": {},
   "outputs": [],
   "source": [
    "weights = {\n",
    "    'W1': W1, \n",
    "    'b1': b1,\n",
    "    'W2': W2,\n",
    "    'b2': b2}"
   ]
  },
  {
   "cell_type": "code",
   "execution_count": 31,
   "metadata": {},
   "outputs": [],
   "source": [
    "import pickle\n",
    "\n",
    "with open('weights.pkl', 'wb') as file:\n",
    "    pickle.dump(weights, file)"
   ]
  },
  {
   "cell_type": "code",
   "execution_count": 32,
   "metadata": {},
   "outputs": [
    {
     "data": {
      "text/plain": [
       "dict_keys(['W1', 'b1', 'W2', 'b2'])"
      ]
     },
     "execution_count": 32,
     "metadata": {},
     "output_type": "execute_result"
    }
   ],
   "source": [
    "import pickle\n",
    "with open('weights.pkl', 'rb') as file:\n",
    "    loaded_weights = pickle.load(file)\n",
    "loaded_weights.keys()"
   ]
  },
  {
   "cell_type": "code",
   "execution_count": 33,
   "metadata": {},
   "outputs": [
    {
     "name": "stdout",
     "output_type": "stream",
     "text": [
      "dict_keys(['W1', 'b1', 'W2', 'b2'])\n"
     ]
    }
   ],
   "source": [
    "def load_weights():\n",
    "    global W1, b1, W2, b2\n",
    "    with open('weights.pkl', 'rb') as file:\n",
    "        lw = pickle.load(file)\n",
    "    print(lw.keys())\n",
    "    W1, b1, W2, b2 = lw['W1'], lw['b1'], lw['W2'], lw['b2']     \n",
    "\n",
    "load_weights()"
   ]
  },
  {
   "cell_type": "code",
   "execution_count": 46,
   "metadata": {},
   "outputs": [
    {
     "name": "stdout",
     "output_type": "stream",
     "text": [
      "Predicted value 8\n"
     ]
    },
    {
     "data": {
      "image/png": "[encoded data removed]",
      "text/plain": [
       "<Figure size 640x480 with 1 Axes>"
      ]
     },
     "metadata": {},
     "output_type": "display_data"
    }
   ],
   "source": [
    "import random\n",
    "predict(random.randint(1, 1000))"
   ]
  }
 ],
 "metadata": {
  "kernelspec": {
   "display_name": "openvoice",
   "language": "python",
   "name": "python3"
  },
  "language_info": {
   "codemirror_mode": {
    "name": "ipython",
    "version": 3
   },
   "file_extension": ".py",
   "mimetype": "text/x-python",
   "name": "python",
   "nbconvert_exporter": "python",
   "pygments_lexer": "ipython3",
   "version": "3.9.19"
  }
 },
 "nbformat": 4,
 "nbformat_minor": 2
}
