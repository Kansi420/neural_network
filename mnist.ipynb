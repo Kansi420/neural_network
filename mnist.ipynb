{
 "cells": [
  {
   "cell_type": "code",
   "execution_count": 1,
   "metadata": {},
   "outputs": [],
   "source": [
    "import numpy as np\n",
    "import pandas as pd\n",
    "import matplotlib.pyplot as plt\n",
    "import matplotlib.cm as cm \n",
    "\n",
    "\n",
    "# Example usage\n",
    "# Assuming you have loaded MNIST data into X_train (images) and y_train (labels)\n",
    "# You need to preprocess the data (e.g., flatten images and one-hot encode labels) before using it\n",
    "\n",
    "# train(X_train, y_train, epochs=10, batch_size=64)\n"
   ]
  },
  {
   "cell_type": "code",
   "execution_count": 2,
   "metadata": {},
   "outputs": [],
   "source": [
    "train_data_pd = pd.read_csv('./train.csv')\n",
    "test_data_pd = pd.read_csv('./test.csv')"
   ]
  },
  {
   "cell_type": "code",
   "execution_count": 3,
   "metadata": {},
   "outputs": [],
   "source": [
    "train_data = np.array(train_data_pd)\n",
    "test_data = np.array(test_data_pd)"
   ]
  },
  {
   "cell_type": "code",
   "execution_count": 4,
   "metadata": {},
   "outputs": [],
   "source": [
    "train_label = train_data[:, :1]\n",
    "\n",
    "train_data = train_data[:, 1:]\n"
   ]
  },
  {
   "cell_type": "code",
   "execution_count": 5,
   "metadata": {},
   "outputs": [
    {
     "data": {
      "text/plain": [
       "<matplotlib.image.AxesImage at 0x1681f8940>"
      ]
     },
     "execution_count": 5,
     "metadata": {},
     "output_type": "execute_result"
    },
    {
     "data": {
      "image/png": "[encoded data removed]",
      "text/plain": [
       "<Figure size 640x480 with 1 Axes>"
      ]
     },
     "metadata": {},
     "output_type": "display_data"
    }
   ],
   "source": [
    "index = 95\n",
    "plt.title((train_label[index]))\n",
    "plt.imshow(train_data[index].reshape(28,28))"
   ]
  },
  {
   "cell_type": "code",
   "execution_count": 6,
   "metadata": {},
   "outputs": [],
   "source": [
    "train_data = train_data/np.max(train_data)\n",
    "test_data = test_data/np.max(test_data)"
   ]
  },
  {
   "cell_type": "code",
   "execution_count": 7,
   "metadata": {},
   "outputs": [
    {
     "name": "stdout",
     "output_type": "stream",
     "text": [
      "1.0\n",
      "1.0\n"
     ]
    }
   ],
   "source": [
    "print(np.max(train_data))\n",
    "print(np.max(test_data))"
   ]
  },
  {
   "cell_type": "code",
   "execution_count": 8,
   "metadata": {},
   "outputs": [
    {
     "data": {
      "text/plain": [
       "array([[0., 0., 0., ..., 0., 0., 0.],\n",
       "       [0., 0., 0., ..., 0., 0., 0.],\n",
       "       [0., 0., 0., ..., 0., 0., 0.],\n",
       "       ...,\n",
       "       [0., 0., 0., ..., 0., 0., 0.],\n",
       "       [0., 0., 0., ..., 0., 0., 0.],\n",
       "       [0., 0., 0., ..., 0., 0., 0.]])"
      ]
     },
     "execution_count": 8,
     "metadata": {},
     "output_type": "execute_result"
    }
   ],
   "source": [
    "train_lables_OH = np.zeros((train_data.shape[0], 10))\n",
    "train_lables_OH"
   ]
  },
  {
   "cell_type": "code",
   "execution_count": 9,
   "metadata": {},
   "outputs": [],
   "source": [
    "for i, lable in enumerate(train_label):\n",
    "    # print(i, lable)\n",
    "    train_lables_OH[i][lable] = 1\n"
   ]
  },
  {
   "cell_type": "code",
   "execution_count": 10,
   "metadata": {},
   "outputs": [
    {
     "name": "stdout",
     "output_type": "stream",
     "text": [
      "(42000, 784)\n",
      "(42000, 10)\n"
     ]
    }
   ],
   "source": [
    "print(train_data.shape)\n",
    "print(train_lables_OH.shape)"
   ]
  },
  {
   "cell_type": "code",
   "execution_count": 11,
   "metadata": {},
   "outputs": [],
   "source": [
    "# Define the ReLU activation function\n",
    "def relu(x):\n",
    "    return np.maximum(0, x)\n",
    "\n",
    "# Define the derivative of the ReLU activation function\n",
    "def relu_derivative(x):\n",
    "    return np.where(x > 0, 1, 0)\n",
    "\n",
    "# Define the softmax function\n",
    "def softmax(x):\n",
    "    exp_vals = np.exp(x - np.max(x, axis=-1, keepdims=True))\n",
    "    return exp_vals / np.sum(exp_vals, axis=-1, keepdims=True)\n",
    "\n",
    "# Define the categorical cross-entropy loss function\n",
    "def categorical_cross_entropy(y_pred, y_true):\n",
    "    num_samples = y_pred.shape[0]\n",
    "    return -np.sum(y_true * np.log(y_pred + 1e-15)) / num_samples\n"
   ]
  },
  {
   "cell_type": "code",
   "execution_count": 12,
   "metadata": {},
   "outputs": [],
   "source": [
    "# Initialize weights and biases\n",
    "input_size = 784  # MNIST image size (28x28)\n",
    "hidden_size = 128\n",
    "output_size = 10\n",
    "learning_rate = 0.001\n",
    "\n",
    "W1 = np.random.randn(input_size, hidden_size)\n",
    "b1 = np.zeros(hidden_size)\n",
    "W2 = np.random.randn(hidden_size, output_size)\n",
    "b2 = np.zeros(output_size)"
   ]
  },
  {
   "cell_type": "code",
   "execution_count": 13,
   "metadata": {},
   "outputs": [],
   "source": [
    "# Forward pass\n",
    "def forward_pass(X):\n",
    "    global W1, b1, W2, b2\n",
    "    # Input layer to hidden layer\n",
    "    z1 = np.dot(X, W1) + b1\n",
    "    a1 = relu(z1)\n",
    "    # Hidden layer to output layer\n",
    "    z2 = np.dot(a1, W2) + b2\n",
    "    a2 = softmax(z2)\n",
    "    return a1, a2\n",
    "\n",
    "# Backward pass\n",
    "def backward_pass(X, y_true, a1, a2):\n",
    "    global W1, b1, W2, b2\n",
    "    num_samples = X.shape[0]\n",
    "    # Compute gradients for output layer\n",
    "    dz2 = (a2 - y_true) / num_samples\n",
    "    dW2 = np.dot(a1.T, dz2)\n",
    "    db2 = np.sum(dz2, axis=0)\n",
    "    # Compute gradients for hidden layer\n",
    "    da1 = np.dot(dz2, W2.T)\n",
    "    dz1 = da1 * relu_derivative(a1)\n",
    "    dW1 = np.dot(X.T, dz1)\n",
    "    db1 = np.sum(dz1, axis=0)\n",
    "    # Update weights and biases\n",
    "    W1 -= learning_rate * dW1\n",
    "    b1 -= learning_rate * db1\n",
    "    W2 -= learning_rate * dW2\n",
    "    b2 -= learning_rate * db2\n"
   ]
  },
  {
   "cell_type": "code",
   "execution_count": 14,
   "metadata": {},
   "outputs": [],
   "source": [
    "# Training loop\n",
    "def train(X_train, y_train, epochs, batch_size):\n",
    "    num_samples = X_train.shape[0]\n",
    "    for epoch in range(epochs):\n",
    "        for i in range(0, num_samples, batch_size):\n",
    "            X_batch = X_train[i:i+batch_size]\n",
    "            y_batch = y_train[i:i+batch_size]\n",
    "            # Forward pass\n",
    "            a1, a2 = forward_pass(X_batch)\n",
    "            # Backward pass\n",
    "            backward_pass(X_batch, y_batch, a1, a2)\n",
    "        # Compute training loss\n",
    "        _, y_pred = forward_pass(X_train)\n",
    "        loss = categorical_cross_entropy(y_pred, y_train)\n",
    "        print(f'Epoch {epoch+1}/{epochs}, Loss: {loss:.4f}')\n"
   ]
  },
  {
   "cell_type": "code",
   "execution_count": 47,
   "metadata": {},
   "outputs": [
    {
     "name": "stdout",
     "output_type": "stream",
     "text": [
      "Epoch 1/300, Loss: 0.7614\n",
      "Epoch 2/300, Loss: 0.7583\n",
      "Epoch 3/300, Loss: 0.7552\n",
      "Epoch 4/300, Loss: 0.7521\n",
      "Epoch 5/300, Loss: 0.7490\n",
      "Epoch 6/300, Loss: 0.7459\n",
      "Epoch 7/300, Loss: 0.7429\n",
      "Epoch 8/300, Loss: 0.7399\n",
      "Epoch 9/300, Loss: 0.7369\n",
      "Epoch 10/300, Loss: 0.7339\n",
      "Epoch 11/300, Loss: 0.7309\n",
      "Epoch 12/300, Loss: 0.7280\n",
      "Epoch 13/300, Loss: 0.7251\n",
      "Epoch 14/300, Loss: 0.7222\n",
      "Epoch 15/300, Loss: 0.7193\n",
      "Epoch 16/300, Loss: 0.7164\n",
      "Epoch 17/300, Loss: 0.7136\n",
      "Epoch 18/300, Loss: 0.7107\n",
      "Epoch 19/300, Loss: 0.7079\n",
      "Epoch 20/300, Loss: 0.7051\n",
      "Epoch 21/300, Loss: 0.7023\n",
      "Epoch 22/300, Loss: 0.6996\n",
      "Epoch 23/300, Loss: 0.6969\n",
      "Epoch 24/300, Loss: 0.6942\n",
      "Epoch 25/300, Loss: 0.6915\n",
      "Epoch 26/300, Loss: 0.6888\n",
      "Epoch 27/300, Loss: 0.6861\n",
      "Epoch 28/300, Loss: 0.6835\n",
      "Epoch 29/300, Loss: 0.6809\n",
      "Epoch 30/300, Loss: 0.6783\n",
      "Epoch 31/300, Loss: 0.6757\n",
      "Epoch 32/300, Loss: 0.6732\n",
      "Epoch 33/300, Loss: 0.6706\n",
      "Epoch 34/300, Loss: 0.6681\n",
      "Epoch 35/300, Loss: 0.6656\n",
      "Epoch 36/300, Loss: 0.6631\n",
      "Epoch 37/300, Loss: 0.6606\n",
      "Epoch 38/300, Loss: 0.6582\n",
      "Epoch 39/300, Loss: 0.6557\n",
      "Epoch 40/300, Loss: 0.6533\n",
      "Epoch 41/300, Loss: 0.6509\n",
      "Epoch 42/300, Loss: 0.6485\n",
      "Epoch 43/300, Loss: 0.6461\n",
      "Epoch 44/300, Loss: 0.6437\n",
      "Epoch 45/300, Loss: 0.6414\n",
      "Epoch 46/300, Loss: 0.6391\n",
      "Epoch 47/300, Loss: 0.6368\n",
      "Epoch 48/300, Loss: 0.6345\n",
      "Epoch 49/300, Loss: 0.6322\n",
      "Epoch 50/300, Loss: 0.6299\n",
      "Epoch 51/300, Loss: 0.6277\n",
      "Epoch 52/300, Loss: 0.6254\n",
      "Epoch 53/300, Loss: 0.6232\n",
      "Epoch 54/300, Loss: 0.6210\n",
      "Epoch 55/300, Loss: 0.6188\n",
      "Epoch 56/300, Loss: 0.6167\n",
      "Epoch 57/300, Loss: 0.6145\n",
      "Epoch 58/300, Loss: 0.6124\n",
      "Epoch 59/300, Loss: 0.6103\n",
      "Epoch 60/300, Loss: 0.6082\n",
      "Epoch 61/300, Loss: 0.6061\n",
      "Epoch 62/300, Loss: 0.6040\n",
      "Epoch 63/300, Loss: 0.6019\n",
      "Epoch 64/300, Loss: 0.5999\n",
      "Epoch 65/300, Loss: 0.5979\n",
      "Epoch 66/300, Loss: 0.5958\n",
      "Epoch 67/300, Loss: 0.5938\n",
      "Epoch 68/300, Loss: 0.5918\n",
      "Epoch 69/300, Loss: 0.5898\n",
      "Epoch 70/300, Loss: 0.5879\n",
      "Epoch 71/300, Loss: 0.5859\n",
      "Epoch 72/300, Loss: 0.5840\n",
      "Epoch 73/300, Loss: 0.5820\n",
      "Epoch 74/300, Loss: 0.5801\n",
      "Epoch 75/300, Loss: 0.5782\n",
      "Epoch 76/300, Loss: 0.5763\n",
      "Epoch 77/300, Loss: 0.5744\n",
      "Epoch 78/300, Loss: 0.5725\n",
      "Epoch 79/300, Loss: 0.5707\n",
      "Epoch 80/300, Loss: 0.5688\n",
      "Epoch 81/300, Loss: 0.5670\n",
      "Epoch 82/300, Loss: 0.5652\n",
      "Epoch 83/300, Loss: 0.5634\n",
      "Epoch 84/300, Loss: 0.5616\n",
      "Epoch 85/300, Loss: 0.5598\n",
      "Epoch 86/300, Loss: 0.5580\n",
      "Epoch 87/300, Loss: 0.5562\n",
      "Epoch 88/300, Loss: 0.5545\n",
      "Epoch 89/300, Loss: 0.5527\n",
      "Epoch 90/300, Loss: 0.5510\n",
      "Epoch 91/300, Loss: 0.5492\n",
      "Epoch 92/300, Loss: 0.5475\n",
      "Epoch 93/300, Loss: 0.5458\n",
      "Epoch 94/300, Loss: 0.5441\n",
      "Epoch 95/300, Loss: 0.5424\n",
      "Epoch 96/300, Loss: 0.5407\n",
      "Epoch 97/300, Loss: 0.5391\n",
      "Epoch 98/300, Loss: 0.5374\n",
      "Epoch 99/300, Loss: 0.5357\n",
      "Epoch 100/300, Loss: 0.5341\n",
      "Epoch 101/300, Loss: 0.5325\n",
      "Epoch 102/300, Loss: 0.5308\n",
      "Epoch 103/300, Loss: 0.5292\n",
      "Epoch 104/300, Loss: 0.5276\n",
      "Epoch 105/300, Loss: 0.5260\n",
      "Epoch 106/300, Loss: 0.5244\n",
      "Epoch 107/300, Loss: 0.5228\n",
      "Epoch 108/300, Loss: 0.5213\n",
      "Epoch 109/300, Loss: 0.5197\n",
      "Epoch 110/300, Loss: 0.5182\n",
      "Epoch 111/300, Loss: 0.5166\n",
      "Epoch 112/300, Loss: 0.5151\n",
      "Epoch 113/300, Loss: 0.5136\n",
      "Epoch 114/300, Loss: 0.5121\n",
      "Epoch 115/300, Loss: 0.5106\n",
      "Epoch 116/300, Loss: 0.5091\n",
      "Epoch 117/300, Loss: 0.5076\n",
      "Epoch 118/300, Loss: 0.5061\n",
      "Epoch 119/300, Loss: 0.5046\n",
      "Epoch 120/300, Loss: 0.5032\n",
      "Epoch 121/300, Loss: 0.5017\n",
      "Epoch 122/300, Loss: 0.5003\n",
      "Epoch 123/300, Loss: 0.4988\n",
      "Epoch 124/300, Loss: 0.4974\n",
      "Epoch 125/300, Loss: 0.4960\n",
      "Epoch 126/300, Loss: 0.4946\n",
      "Epoch 127/300, Loss: 0.4932\n",
      "Epoch 128/300, Loss: 0.4918\n",
      "Epoch 129/300, Loss: 0.4904\n",
      "Epoch 130/300, Loss: 0.4890\n",
      "Epoch 131/300, Loss: 0.4876\n",
      "Epoch 132/300, Loss: 0.4863\n",
      "Epoch 133/300, Loss: 0.4849\n",
      "Epoch 134/300, Loss: 0.4835\n",
      "Epoch 135/300, Loss: 0.4822\n",
      "Epoch 136/300, Loss: 0.4809\n",
      "Epoch 137/300, Loss: 0.4795\n",
      "Epoch 138/300, Loss: 0.4782\n",
      "Epoch 139/300, Loss: 0.4769\n",
      "Epoch 140/300, Loss: 0.4756\n",
      "Epoch 141/300, Loss: 0.4743\n",
      "Epoch 142/300, Loss: 0.4730\n",
      "Epoch 143/300, Loss: 0.4717\n",
      "Epoch 144/300, Loss: 0.4704\n",
      "Epoch 145/300, Loss: 0.4691\n",
      "Epoch 146/300, Loss: 0.4678\n",
      "Epoch 147/300, Loss: 0.4665\n",
      "Epoch 148/300, Loss: 0.4653\n",
      "Epoch 149/300, Loss: 0.4640\n",
      "Epoch 150/300, Loss: 0.4628\n",
      "Epoch 151/300, Loss: 0.4615\n",
      "Epoch 152/300, Loss: 0.4603\n",
      "Epoch 153/300, Loss: 0.4590\n",
      "Epoch 154/300, Loss: 0.4578\n",
      "Epoch 155/300, Loss: 0.4566\n",
      "Epoch 156/300, Loss: 0.4554\n",
      "Epoch 157/300, Loss: 0.4542\n",
      "Epoch 158/300, Loss: 0.4530\n",
      "Epoch 159/300, Loss: 0.4518\n",
      "Epoch 160/300, Loss: 0.4506\n",
      "Epoch 161/300, Loss: 0.4494\n",
      "Epoch 162/300, Loss: 0.4482\n",
      "Epoch 163/300, Loss: 0.4470\n",
      "Epoch 164/300, Loss: 0.4459\n",
      "Epoch 165/300, Loss: 0.4447\n",
      "Epoch 166/300, Loss: 0.4436\n",
      "Epoch 167/300, Loss: 0.4424\n",
      "Epoch 168/300, Loss: 0.4413\n",
      "Epoch 169/300, Loss: 0.4401\n",
      "Epoch 170/300, Loss: 0.4390\n",
      "Epoch 171/300, Loss: 0.4379\n",
      "Epoch 172/300, Loss: 0.4368\n",
      "Epoch 173/300, Loss: 0.4357\n",
      "Epoch 174/300, Loss: 0.4346\n",
      "Epoch 175/300, Loss: 0.4335\n",
      "Epoch 176/300, Loss: 0.4324\n",
      "Epoch 177/300, Loss: 0.4313\n",
      "Epoch 178/300, Loss: 0.4302\n",
      "Epoch 179/300, Loss: 0.4291\n",
      "Epoch 180/300, Loss: 0.4280\n",
      "Epoch 181/300, Loss: 0.4270\n",
      "Epoch 182/300, Loss: 0.4259\n",
      "Epoch 183/300, Loss: 0.4249\n",
      "Epoch 184/300, Loss: 0.4238\n",
      "Epoch 185/300, Loss: 0.4228\n",
      "Epoch 186/300, Loss: 0.4217\n",
      "Epoch 187/300, Loss: 0.4207\n",
      "Epoch 188/300, Loss: 0.4197\n",
      "Epoch 189/300, Loss: 0.4186\n",
      "Epoch 190/300, Loss: 0.4176\n",
      "Epoch 191/300, Loss: 0.4166\n",
      "Epoch 192/300, Loss: 0.4156\n",
      "Epoch 193/300, Loss: 0.4146\n",
      "Epoch 194/300, Loss: 0.4136\n",
      "Epoch 195/300, Loss: 0.4126\n",
      "Epoch 196/300, Loss: 0.4116\n",
      "Epoch 197/300, Loss: 0.4106\n",
      "Epoch 198/300, Loss: 0.4096\n",
      "Epoch 199/300, Loss: 0.4086\n",
      "Epoch 200/300, Loss: 0.4077\n",
      "Epoch 201/300, Loss: 0.4067\n",
      "Epoch 202/300, Loss: 0.4057\n",
      "Epoch 203/300, Loss: 0.4048\n",
      "Epoch 204/300, Loss: 0.4038\n",
      "Epoch 205/300, Loss: 0.4029\n",
      "Epoch 206/300, Loss: 0.4019\n",
      "Epoch 207/300, Loss: 0.4010\n",
      "Epoch 208/300, Loss: 0.4000\n",
      "Epoch 209/300, Loss: 0.3991\n",
      "Epoch 210/300, Loss: 0.3982\n",
      "Epoch 211/300, Loss: 0.3973\n",
      "Epoch 212/300, Loss: 0.3963\n",
      "Epoch 213/300, Loss: 0.3954\n",
      "Epoch 214/300, Loss: 0.3945\n",
      "Epoch 215/300, Loss: 0.3936\n",
      "Epoch 216/300, Loss: 0.3927\n",
      "Epoch 217/300, Loss: 0.3918\n",
      "Epoch 218/300, Loss: 0.3909\n",
      "Epoch 219/300, Loss: 0.3900\n",
      "Epoch 220/300, Loss: 0.3892\n",
      "Epoch 221/300, Loss: 0.3883\n",
      "Epoch 222/300, Loss: 0.3874\n",
      "Epoch 223/300, Loss: 0.3865\n",
      "Epoch 224/300, Loss: 0.3857\n",
      "Epoch 225/300, Loss: 0.3848\n",
      "Epoch 226/300, Loss: 0.3839\n",
      "Epoch 227/300, Loss: 0.3831\n",
      "Epoch 228/300, Loss: 0.3822\n",
      "Epoch 229/300, Loss: 0.3814\n",
      "Epoch 230/300, Loss: 0.3806\n",
      "Epoch 231/300, Loss: 0.3797\n",
      "Epoch 232/300, Loss: 0.3789\n",
      "Epoch 233/300, Loss: 0.3781\n",
      "Epoch 234/300, Loss: 0.3772\n",
      "Epoch 235/300, Loss: 0.3764\n",
      "Epoch 236/300, Loss: 0.3756\n",
      "Epoch 237/300, Loss: 0.3748\n",
      "Epoch 238/300, Loss: 0.3740\n",
      "Epoch 239/300, Loss: 0.3732\n",
      "Epoch 240/300, Loss: 0.3724\n",
      "Epoch 241/300, Loss: 0.3716\n",
      "Epoch 242/300, Loss: 0.3708\n",
      "Epoch 243/300, Loss: 0.3700\n",
      "Epoch 244/300, Loss: 0.3692\n",
      "Epoch 245/300, Loss: 0.3684\n",
      "Epoch 246/300, Loss: 0.3676\n",
      "Epoch 247/300, Loss: 0.3668\n",
      "Epoch 248/300, Loss: 0.3661\n",
      "Epoch 249/300, Loss: 0.3653\n",
      "Epoch 250/300, Loss: 0.3645\n",
      "Epoch 251/300, Loss: 0.3638\n",
      "Epoch 252/300, Loss: 0.3630\n",
      "Epoch 253/300, Loss: 0.3623\n",
      "Epoch 254/300, Loss: 0.3615\n",
      "Epoch 255/300, Loss: 0.3608\n",
      "Epoch 256/300, Loss: 0.3600\n",
      "Epoch 257/300, Loss: 0.3593\n",
      "Epoch 258/300, Loss: 0.3585\n",
      "Epoch 259/300, Loss: 0.3578\n",
      "Epoch 260/300, Loss: 0.3571\n",
      "Epoch 261/300, Loss: 0.3563\n",
      "Epoch 262/300, Loss: 0.3556\n",
      "Epoch 263/300, Loss: 0.3549\n",
      "Epoch 264/300, Loss: 0.3542\n",
      "Epoch 265/300, Loss: 0.3534\n",
      "Epoch 266/300, Loss: 0.3527\n",
      "Epoch 267/300, Loss: 0.3520\n",
      "Epoch 268/300, Loss: 0.3513\n",
      "Epoch 269/300, Loss: 0.3506\n",
      "Epoch 270/300, Loss: 0.3499\n",
      "Epoch 271/300, Loss: 0.3492\n",
      "Epoch 272/300, Loss: 0.3485\n",
      "Epoch 273/300, Loss: 0.3478\n",
      "Epoch 274/300, Loss: 0.3472\n",
      "Epoch 275/300, Loss: 0.3465\n",
      "Epoch 276/300, Loss: 0.3458\n",
      "Epoch 277/300, Loss: 0.3451\n",
      "Epoch 278/300, Loss: 0.3444\n",
      "Epoch 279/300, Loss: 0.3438\n",
      "Epoch 280/300, Loss: 0.3431\n",
      "Epoch 281/300, Loss: 0.3424\n",
      "Epoch 282/300, Loss: 0.3418\n",
      "Epoch 283/300, Loss: 0.3411\n",
      "Epoch 284/300, Loss: 0.3405\n",
      "Epoch 285/300, Loss: 0.3398\n",
      "Epoch 286/300, Loss: 0.3392\n",
      "Epoch 287/300, Loss: 0.3385\n",
      "Epoch 288/300, Loss: 0.3379\n",
      "Epoch 289/300, Loss: 0.3372\n",
      "Epoch 290/300, Loss: 0.3366\n",
      "Epoch 291/300, Loss: 0.3359\n",
      "Epoch 292/300, Loss: 0.3353\n",
      "Epoch 293/300, Loss: 0.3347\n",
      "Epoch 294/300, Loss: 0.3340\n",
      "Epoch 295/300, Loss: 0.3334\n",
      "Epoch 296/300, Loss: 0.3328\n",
      "Epoch 297/300, Loss: 0.3322\n",
      "Epoch 298/300, Loss: 0.3315\n",
      "Epoch 299/300, Loss: 0.3309\n",
      "Epoch 300/300, Loss: 0.3303\n"
     ]
    }
   ],
   "source": [
    "train(train_data, train_lables_OH, epochs=300, batch_size=64)"
   ]
  },
  {
   "cell_type": "code",
   "execution_count": 48,
   "metadata": {},
   "outputs": [
    {
     "name": "stdout",
     "output_type": "stream",
     "text": [
      "Predicted value 7\n"
     ]
    },
    {
     "data": {
      "image/png": "[encoded data removed]",
      "text/plain": [
       "<Figure size 640x480 with 1 Axes>"
      ]
     },
     "metadata": {},
     "output_type": "display_data"
    }
   ],
   "source": [
    "def predict(index):\n",
    "    test_ele = test_data[index: index+1, :]\n",
    "    plt.imshow(test_ele.reshape(28,28))\n",
    "    _, y_pred = forward_pass(test_ele)\n",
    "    print('Predicted value', np.argmax(y_pred))\n",
    "\n",
    "predict(40)"
   ]
  },
  {
   "cell_type": "code",
   "execution_count": 49,
   "metadata": {},
   "outputs": [],
   "source": [
    "weights = {\n",
    "    'W1': W1, \n",
    "    'b1': b1,\n",
    "    'W2': W2,\n",
    "    'b2': b2}"
   ]
  },
  {
   "cell_type": "code",
   "execution_count": 50,
   "metadata": {},
   "outputs": [],
   "source": [
    "import pickle\n",
    "\n",
    "with open('weights.pkl', 'wb') as file:\n",
    "    pickle.dump(weights, file)"
   ]
  },
  {
   "cell_type": "code",
   "execution_count": 51,
   "metadata": {},
   "outputs": [
    {
     "data": {
      "text/plain": [
       "dict_keys(['W1', 'b1', 'W2', 'b2'])"
      ]
     },
     "execution_count": 51,
     "metadata": {},
     "output_type": "execute_result"
    }
   ],
   "source": [
    "import pickle\n",
    "with open('weights.pkl', 'rb') as file:\n",
    "    loaded_weights = pickle.load(file)\n",
    "loaded_weights.keys()"
   ]
  },
  {
   "cell_type": "code",
   "execution_count": 52,
   "metadata": {},
   "outputs": [
    {
     "name": "stdout",
     "output_type": "stream",
     "text": [
      "dict_keys(['W1', 'b1', 'W2', 'b2'])\n"
     ]
    }
   ],
   "source": [
    "def load_weights():\n",
    "    global W1, b1, W2, b2\n",
    "    with open('weights.pkl', 'rb') as file:\n",
    "        lw = pickle.load(file)\n",
    "    print(lw.keys())\n",
    "    W1, b1, W2, b2 = lw['W1'], lw['b1'], lw['W2'], lw['b2']     \n",
    "\n",
    "load_weights()"
   ]
  },
  {
   "cell_type": "code",
   "execution_count": 83,
   "metadata": {},
   "outputs": [
    {
     "name": "stdout",
     "output_type": "stream",
     "text": [
      "Predicted value 7\n"
     ]
    },
    {
     "data": {
      "image/png": "[encoded data removed]",
      "text/plain": [
       "<Figure size 640x480 with 1 Axes>"
      ]
     },
     "metadata": {},
     "output_type": "display_data"
    }
   ],
   "source": [
    "import random\n",
    "predict(random.randint(1, 1000))"
   ]
  }
 ],
 "metadata": {
  "kernelspec": {
   "display_name": "openvoice",
   "language": "python",
   "name": "python3"
  },
  "language_info": {
   "codemirror_mode": {
    "name": "ipython",
    "version": 3
   },
   "file_extension": ".py",
   "mimetype": "text/x-python",
   "name": "python",
   "nbconvert_exporter": "python",
   "pygments_lexer": "ipython3",
   "version": "3.9.19"
  }
 },
 "nbformat": 4,
 "nbformat_minor": 2
}
